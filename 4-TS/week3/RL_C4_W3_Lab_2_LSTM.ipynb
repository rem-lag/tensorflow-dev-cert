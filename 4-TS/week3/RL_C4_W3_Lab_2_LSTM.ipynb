{
  "cells": [
    {
      "cell_type": "markdown",
      "metadata": {
        "id": "xpnUbvcJtF72"
      },
      "source": [
        "<a href=\"https://colab.research.google.com/github/https-deeplearning-ai/tensorflow-1-public/blob/main/C4/W3/ungraded_labs/C4_W3_Lab_2_LSTM.ipynb\" target=\"_parent\"><img src=\"https://colab.research.google.com/assets/colab-badge.svg\" alt=\"Open In Colab\"/></a>"
      ]
    },
    {
      "cell_type": "markdown",
      "metadata": {
        "id": "sV_nvXSQGJPK"
      },
      "source": [
        "# Ungraded Lab: Using a multi-layer LSTM for forecasting\n",
        "\n",
        "In this lab, you will use the same RNN architecure in the first lab but will instead stack [LSTM](https://www.tensorflow.org/api_docs/python/tf/keras/layers/LSTM) layers instead of `SimpleRNN`."
      ]
    },
    {
      "cell_type": "markdown",
      "metadata": {
        "id": "3IMbAWETGOWD"
      },
      "source": [
        "## Imports"
      ]
    },
    {
      "cell_type": "code",
      "execution_count": 1,
      "metadata": {
        "id": "BOjujz601HcS"
      },
      "outputs": [],
      "source": [
        "import tensorflow as tf\n",
        "import numpy as np\n",
        "import matplotlib.pyplot as plt"
      ]
    },
    {
      "cell_type": "markdown",
      "metadata": {
        "id": "kD7RQQ0xGQVH"
      },
      "source": [
        "## Utilities"
      ]
    },
    {
      "cell_type": "code",
      "execution_count": 2,
      "metadata": {
        "id": "Zswl7jRtGzkk"
      },
      "outputs": [],
      "source": [
        "def plot_series(time, series, format=\"-\", start=0, end=None):\n",
        "    \"\"\"\n",
        "    Visualizes time series data\n",
        "\n",
        "    Args:\n",
        "      time (array of int) - contains the time steps\n",
        "      series (array of int) - contains the measurements for each time step\n",
        "      format - line style when plotting the graph\n",
        "      start - first time step to plot\n",
        "      end - last time step to plot\n",
        "    \"\"\"\n",
        "\n",
        "    # Setup dimensions of the graph figure\n",
        "    plt.figure(figsize=(10, 6))\n",
        "    \n",
        "    if type(series) is tuple:\n",
        "\n",
        "      for series_num in series:\n",
        "        # Plot the time series data\n",
        "        plt.plot(time[start:end], series_num[start:end], format)\n",
        "\n",
        "    else:\n",
        "      # Plot the time series data\n",
        "      plt.plot(time[start:end], series[start:end], format)\n",
        "\n",
        "    # Label the x-axis\n",
        "    plt.xlabel(\"Time\")\n",
        "\n",
        "    # Label the y-axis\n",
        "    plt.ylabel(\"Value\")\n",
        "\n",
        "    # Overlay a grid on the graph\n",
        "    plt.grid(True)\n",
        "\n",
        "    # Draw the graph on screen\n",
        "    plt.show()\n",
        "\n",
        "def trend(time, slope=0):\n",
        "    \"\"\"\n",
        "    Generates synthetic data that follows a straight line given a slope value.\n",
        "\n",
        "    Args:\n",
        "      time (array of int) - contains the time steps\n",
        "      slope (float) - determines the direction and steepness of the line\n",
        "\n",
        "    Returns:\n",
        "      series (array of float) - measurements that follow a straight line\n",
        "    \"\"\"\n",
        "\n",
        "    # Compute the linear series given the slope\n",
        "    series = slope * time\n",
        "\n",
        "    return series\n",
        "\n",
        "def seasonal_pattern(season_time):\n",
        "    \"\"\"\n",
        "    Just an arbitrary pattern, you can change it if you wish\n",
        "    \n",
        "    Args:\n",
        "      season_time (array of float) - contains the measurements per time step\n",
        "\n",
        "    Returns:\n",
        "      data_pattern (array of float) -  contains revised measurement values according \n",
        "                                  to the defined pattern\n",
        "    \"\"\"\n",
        "\n",
        "    # Generate the values using an arbitrary pattern\n",
        "    data_pattern = np.where(season_time < 0.4,\n",
        "                    np.cos(season_time * 2 * np.pi),\n",
        "                    1 / np.exp(3 * season_time))\n",
        "    \n",
        "    return data_pattern\n",
        "\n",
        "def seasonality(time, period, amplitude=1, phase=0):\n",
        "    \"\"\"\n",
        "    Repeats the same pattern at each period\n",
        "\n",
        "    Args:\n",
        "      time (array of int) - contains the time steps\n",
        "      period (int) - number of time steps before the pattern repeats\n",
        "      amplitude (int) - peak measured value in a period\n",
        "      phase (int) - number of time steps to shift the measured values\n",
        "\n",
        "    Returns:\n",
        "      data_pattern (array of float) - seasonal data scaled by the defined amplitude\n",
        "    \"\"\"\n",
        "    \n",
        "    # Define the measured values per period\n",
        "    season_time = ((time + phase) % period) / period\n",
        "\n",
        "    # Generates the seasonal data scaled by the defined amplitude\n",
        "    data_pattern = amplitude * seasonal_pattern(season_time)\n",
        "\n",
        "    return data_pattern\n",
        "\n",
        "def noise(time, noise_level=1, seed=None):\n",
        "    \"\"\"Generates a normally distributed noisy signal\n",
        "\n",
        "    Args:\n",
        "      time (array of int) - contains the time steps\n",
        "      noise_level (float) - scaling factor for the generated signal\n",
        "      seed (int) - number generator seed for repeatability\n",
        "\n",
        "    Returns:\n",
        "      noise (array of float) - the noisy signal\n",
        "    \"\"\"\n",
        "\n",
        "    # Initialize the random number generator\n",
        "    rnd = np.random.RandomState(seed)\n",
        "\n",
        "    # Generate a random number for each time step and scale by the noise level\n",
        "    noise = rnd.randn(len(time)) * noise_level\n",
        "    \n",
        "    return noise"
      ]
    },
    {
      "cell_type": "markdown",
      "metadata": {
        "id": "yxNyeFWjGSdj"
      },
      "source": [
        "## Generate the Synthetic Data"
      ]
    },
    {
      "cell_type": "code",
      "execution_count": 3,
      "metadata": {
        "id": "KYEUfDbdpHPm",
        "colab": {
          "base_uri": "https://localhost:8080/",
          "height": 542
        },
        "outputId": "128bc288-f19f-400e-87d9-72598fcc8ccc"
      },
      "outputs": [
        {
          "output_type": "display_data",
          "data": {
            "text/plain": [
              "<Figure size 1000x600 with 1 Axes>"
            ],
            "image/png": "[encoded data removed]"
          },
          "metadata": {}
        }
      ],
      "source": [
        "# Parameters\n",
        "time = np.arange(4 * 365 + 1, dtype=\"float32\")\n",
        "baseline = 10\n",
        "amplitude = 40\n",
        "slope = 0.05\n",
        "noise_level = 5\n",
        "\n",
        "# Create the series\n",
        "series = baseline + trend(time, slope) + seasonality(time, period=365, amplitude=amplitude)\n",
        "\n",
        "# Update with noise\n",
        "series += noise(time, noise_level, seed=42)\n",
        "\n",
        "# Plot the results\n",
        "plot_series(time, series)"
      ]
    },
    {
      "cell_type": "markdown",
      "metadata": {
        "id": "MYKCvv-eGWRc"
      },
      "source": [
        "## Split the Dataset"
      ]
    },
    {
      "cell_type": "code",
      "execution_count": 4,
      "metadata": {
        "id": "hpp0slenpKVD"
      },
      "outputs": [],
      "source": [
        "# Define the split time\n",
        "split_time = 1000\n",
        "\n",
        "# Get the train set \n",
        "time_train = time[:split_time]\n",
        "x_train = series[:split_time]\n",
        "\n",
        "# Get the validation set\n",
        "time_valid = time[split_time:]\n",
        "x_valid = series[split_time:]"
      ]
    },
    {
      "cell_type": "markdown",
      "metadata": {
        "id": "cktHz9aOGYtV"
      },
      "source": [
        "## Prepare Features and Labels"
      ]
    },
    {
      "cell_type": "code",
      "execution_count": 5,
      "metadata": {
        "id": "G_j_2_Mqwn7-"
      },
      "outputs": [],
      "source": [
        "# Parameters\n",
        "window_size = 20\n",
        "batch_size = 32\n",
        "shuffle_buffer_size = 1000"
      ]
    },
    {
      "cell_type": "code",
      "execution_count": 6,
      "metadata": {
        "id": "4sTTIOCbyShY"
      },
      "outputs": [],
      "source": [
        "def windowed_dataset(series, window_size, batch_size, shuffle_buffer):\n",
        "    \"\"\"Generates dataset windows\n",
        "\n",
        "    Args:\n",
        "      series (array of float) - contains the values of the time series\n",
        "      window_size (int) - the number of time steps to include in the feature\n",
        "      batch_size (int) - the batch size\n",
        "      shuffle_buffer(int) - buffer size to use for the shuffle method\n",
        "\n",
        "    Returns:\n",
        "      dataset (TF Dataset) - TF Dataset containing time windows\n",
        "    \"\"\"\n",
        "  \n",
        "    # Generate a TF Dataset from the series values\n",
        "    dataset = tf.data.Dataset.from_tensor_slices(series)\n",
        "    \n",
        "    # Window the data but only take those with the specified size\n",
        "    dataset = dataset.window(window_size + 1, shift=1, drop_remainder=True)\n",
        "    \n",
        "    # Flatten the windows by putting its elements in a single batch\n",
        "    dataset = dataset.flat_map(lambda window: window.batch(window_size + 1))\n",
        "\n",
        "    # Create tuples with features and labels \n",
        "    dataset = dataset.map(lambda window: (window[:-1], window[-1]))\n",
        "\n",
        "    # Shuffle the windows\n",
        "    dataset = dataset.shuffle(shuffle_buffer)\n",
        "    \n",
        "    # Create batches of windows\n",
        "    dataset = dataset.batch(batch_size).prefetch(1)\n",
        "    \n",
        "    return dataset"
      ]
    },
    {
      "cell_type": "code",
      "execution_count": 7,
      "metadata": {
        "id": "vGj5-InSwtQQ"
      },
      "outputs": [],
      "source": [
        "# Generate the dataset windows\n",
        "dataset = windowed_dataset(x_train, window_size, batch_size, shuffle_buffer_size)"
      ]
    },
    {
      "cell_type": "markdown",
      "metadata": {
        "id": "p9-Ke8ZaGcjd"
      },
      "source": [
        "## Build the Model\n",
        "\n",
        "As mentioned, you will swap `SimpleRNN` for `LSTM` in this lab. It is also set as bidirectional below but feel free to revise later and see what results you get. LSTMs are much more complex in their internal architecture than simpleRNNs. It implements a cell state that allows it to remember sequences better than simple implementations. This added complexity results in a bigger set of parameters to train and you'll see that when you print the model summary below."
      ]
    },
    {
      "cell_type": "code",
      "execution_count": 8,
      "metadata": {
        "id": "A1Hl39rklkLm",
        "colab": {
          "base_uri": "https://localhost:8080/"
        },
        "outputId": "e2c8b02b-6c0a-431a-f6fe-e4301473b773"
      },
      "outputs": [
        {
          "output_type": "stream",
          "name": "stdout",
          "text": [
            "Model: \"sequential\"\n",
            "_________________________________________________________________\n",
            " Layer (type)                Output Shape              Param #   \n",
            "=================================================================\n",
            " lambda (Lambda)             (None, 20, 1)             0         \n",
            "                                                                 \n",
            " bidirectional (Bidirectiona  (None, 20, 64)           8704      \n",
            " l)                                                              \n",
            "                                                                 \n",
            " bidirectional_1 (Bidirectio  (None, 64)               24832     \n",
            " nal)                                                            \n",
            "                                                                 \n",
            " dense (Dense)               (None, 1)                 65        \n",
            "                                                                 \n",
            " lambda_1 (Lambda)           (None, 1)                 0         \n",
            "                                                                 \n",
            "=================================================================\n",
            "Total params: 33,601\n",
            "Trainable params: 33,601\n",
            "Non-trainable params: 0\n",
            "_________________________________________________________________\n"
          ]
        }
      ],
      "source": [
        "# Build the Model\n",
        "model_tune = tf.keras.models.Sequential([\n",
        "  tf.keras.layers.Lambda(lambda x: tf.expand_dims(x, axis=-1),\n",
        "                      input_shape=[window_size]),\n",
        "    tf.keras.layers.Bidirectional(tf.keras.layers.LSTM(32, return_sequences=True)),\n",
        "  tf.keras.layers.Bidirectional(tf.keras.layers.LSTM(32)),\n",
        "  tf.keras.layers.Dense(1),\n",
        "  tf.keras.layers.Lambda(lambda x: x * 100.0)\n",
        "])\n",
        "\n",
        "# Print the model summary\n",
        "model_tune.summary()"
      ]
    },
    {
      "cell_type": "markdown",
      "metadata": {
        "id": "FHaFblbwq0GV"
      },
      "source": [
        "## Tune the Learning Rate\n",
        "\n",
        "As usual, you will pick a learning rate by running the tuning code below."
      ]
    },
    {
      "cell_type": "code",
      "execution_count": 9,
      "metadata": {
        "id": "qE7al18qw48G",
        "colab": {
          "base_uri": "https://localhost:8080/"
        },
        "outputId": "a199a556-85a2-43f9-b04b-e82a4b8ccf3b"
      },
      "outputs": [
        {
          "output_type": "stream",
          "name": "stdout",
          "text": [
            "Epoch 1/100\n",
            "31/31 [==============================] - 19s 19ms/step - loss: 22.0070 - lr: 1.0000e-08\n",
            "Epoch 2/100\n",
            "31/31 [==============================] - 0s 9ms/step - loss: 21.7776 - lr: 1.1220e-08\n",
            "Epoch 3/100\n",
            "31/31 [==============================] - 0s 9ms/step - loss: 21.4890 - lr: 1.2589e-08\n",
            "Epoch 4/100\n",
            "31/31 [==============================] - 0s 10ms/step - loss: 21.1863 - lr: 1.4125e-08\n",
            "Epoch 5/100\n",
            "31/31 [==============================] - 0s 9ms/step - loss: 20.9070 - lr: 1.5849e-08\n",
            "Epoch 6/100\n",
            "31/31 [==============================] - 0s 10ms/step - loss: 20.6295 - lr: 1.7783e-08\n",
            "Epoch 7/100\n",
            "31/31 [==============================] - 0s 9ms/step - loss: 20.3893 - lr: 1.9953e-08\n",
            "Epoch 8/100\n",
            "31/31 [==============================] - 0s 10ms/step - loss: 20.0956 - lr: 2.2387e-08\n",
            "Epoch 9/100\n",
            "31/31 [==============================] - 1s 14ms/step - loss: 19.8793 - lr: 2.5119e-08\n",
            "Epoch 10/100\n",
            "31/31 [==============================] - 1s 14ms/step - loss: 19.6550 - lr: 2.8184e-08\n",
            "Epoch 11/100\n",
            "31/31 [==============================] - 1s 14ms/step - loss: 19.4569 - lr: 3.1623e-08\n",
            "Epoch 12/100\n",
            "31/31 [==============================] - 1s 13ms/step - loss: 19.2694 - lr: 3.5481e-08\n",
            "Epoch 13/100\n",
            "31/31 [==============================] - 0s 9ms/step - loss: 19.1144 - lr: 3.9811e-08\n",
            "Epoch 14/100\n",
            "31/31 [==============================] - 0s 10ms/step - loss: 18.9400 - lr: 4.4668e-08\n",
            "Epoch 15/100\n",
            "31/31 [==============================] - 0s 9ms/step - loss: 18.7606 - lr: 5.0119e-08\n",
            "Epoch 16/100\n",
            "31/31 [==============================] - 0s 9ms/step - loss: 18.5850 - lr: 5.6234e-08\n",
            "Epoch 17/100\n",
            "31/31 [==============================] - 0s 9ms/step - loss: 18.3400 - lr: 6.3096e-08\n",
            "Epoch 18/100\n",
            "31/31 [==============================] - 0s 9ms/step - loss: 18.0915 - lr: 7.0795e-08\n",
            "Epoch 19/100\n",
            "31/31 [==============================] - 0s 9ms/step - loss: 17.8084 - lr: 7.9433e-08\n",
            "Epoch 20/100\n",
            "31/31 [==============================] - 0s 9ms/step - loss: 17.5576 - lr: 8.9125e-08\n",
            "Epoch 21/100\n",
            "31/31 [==============================] - 0s 9ms/step - loss: 17.1757 - lr: 1.0000e-07\n",
            "Epoch 22/100\n",
            "31/31 [==============================] - 0s 9ms/step - loss: 16.7309 - lr: 1.1220e-07\n",
            "Epoch 23/100\n",
            "31/31 [==============================] - 0s 11ms/step - loss: 16.2788 - lr: 1.2589e-07\n",
            "Epoch 24/100\n",
            "31/31 [==============================] - 0s 9ms/step - loss: 15.7136 - lr: 1.4125e-07\n",
            "Epoch 25/100\n",
            "31/31 [==============================] - 0s 9ms/step - loss: 15.1294 - lr: 1.5849e-07\n",
            "Epoch 26/100\n",
            "31/31 [==============================] - 0s 10ms/step - loss: 14.3128 - lr: 1.7783e-07\n",
            "Epoch 27/100\n",
            "31/31 [==============================] - 0s 9ms/step - loss: 13.2839 - lr: 1.9953e-07\n",
            "Epoch 28/100\n",
            "31/31 [==============================] - 0s 9ms/step - loss: 12.3868 - lr: 2.2387e-07\n",
            "Epoch 29/100\n",
            "31/31 [==============================] - 0s 9ms/step - loss: 11.9654 - lr: 2.5119e-07\n",
            "Epoch 30/100\n",
            "31/31 [==============================] - 0s 9ms/step - loss: 11.8893 - lr: 2.8184e-07\n",
            "Epoch 31/100\n",
            "31/31 [==============================] - 0s 10ms/step - loss: 10.8598 - lr: 3.1623e-07\n",
            "Epoch 32/100\n",
            "31/31 [==============================] - 0s 10ms/step - loss: 10.7267 - lr: 3.5481e-07\n",
            "Epoch 33/100\n",
            "31/31 [==============================] - 0s 10ms/step - loss: 10.5544 - lr: 3.9811e-07\n",
            "Epoch 34/100\n",
            "31/31 [==============================] - 0s 10ms/step - loss: 10.1088 - lr: 4.4668e-07\n",
            "Epoch 35/100\n",
            "31/31 [==============================] - 0s 9ms/step - loss: 9.8166 - lr: 5.0119e-07\n",
            "Epoch 36/100\n",
            "31/31 [==============================] - 1s 14ms/step - loss: 9.5902 - lr: 5.6234e-07\n",
            "Epoch 37/100\n",
            "31/31 [==============================] - 1s 13ms/step - loss: 10.1226 - lr: 6.3096e-07\n",
            "Epoch 38/100\n",
            "31/31 [==============================] - 1s 14ms/step - loss: 9.2570 - lr: 7.0795e-07\n",
            "Epoch 39/100\n",
            "31/31 [==============================] - 0s 9ms/step - loss: 9.8482 - lr: 7.9433e-07\n",
            "Epoch 40/100\n",
            "31/31 [==============================] - 0s 10ms/step - loss: 9.9586 - lr: 8.9125e-07\n",
            "Epoch 41/100\n",
            "31/31 [==============================] - 0s 10ms/step - loss: 9.4888 - lr: 1.0000e-06\n",
            "Epoch 42/100\n",
            "31/31 [==============================] - 0s 9ms/step - loss: 8.8850 - lr: 1.1220e-06\n",
            "Epoch 43/100\n",
            "31/31 [==============================] - 0s 10ms/step - loss: 8.9352 - lr: 1.2589e-06\n",
            "Epoch 44/100\n",
            "31/31 [==============================] - 0s 9ms/step - loss: 8.8810 - lr: 1.4125e-06\n",
            "Epoch 45/100\n",
            "31/31 [==============================] - 0s 9ms/step - loss: 8.7781 - lr: 1.5849e-06\n",
            "Epoch 46/100\n",
            "31/31 [==============================] - 0s 9ms/step - loss: 9.1266 - lr: 1.7783e-06\n",
            "Epoch 47/100\n",
            "31/31 [==============================] - 0s 10ms/step - loss: 8.4978 - lr: 1.9953e-06\n",
            "Epoch 48/100\n",
            "31/31 [==============================] - 0s 10ms/step - loss: 8.3132 - lr: 2.2387e-06\n",
            "Epoch 49/100\n",
            "31/31 [==============================] - 0s 9ms/step - loss: 8.1739 - lr: 2.5119e-06\n",
            "Epoch 50/100\n",
            "31/31 [==============================] - 0s 10ms/step - loss: 7.3330 - lr: 2.8184e-06\n",
            "Epoch 51/100\n",
            "31/31 [==============================] - 0s 9ms/step - loss: 7.0231 - lr: 3.1623e-06\n",
            "Epoch 52/100\n",
            "31/31 [==============================] - 0s 9ms/step - loss: 6.7940 - lr: 3.5481e-06\n",
            "Epoch 53/100\n",
            "31/31 [==============================] - 0s 9ms/step - loss: 7.1707 - lr: 3.9811e-06\n",
            "Epoch 54/100\n",
            "31/31 [==============================] - 0s 9ms/step - loss: 6.3434 - lr: 4.4668e-06\n",
            "Epoch 55/100\n",
            "31/31 [==============================] - 0s 9ms/step - loss: 5.8080 - lr: 5.0119e-06\n",
            "Epoch 56/100\n",
            "31/31 [==============================] - 0s 10ms/step - loss: 5.5597 - lr: 5.6234e-06\n",
            "Epoch 57/100\n",
            "31/31 [==============================] - 0s 9ms/step - loss: 5.3752 - lr: 6.3096e-06\n",
            "Epoch 58/100\n",
            "31/31 [==============================] - 0s 10ms/step - loss: 5.4642 - lr: 7.0795e-06\n",
            "Epoch 59/100\n",
            "31/31 [==============================] - 0s 10ms/step - loss: 5.4650 - lr: 7.9433e-06\n",
            "Epoch 60/100\n",
            "31/31 [==============================] - 0s 10ms/step - loss: 5.4879 - lr: 8.9125e-06\n",
            "Epoch 61/100\n",
            "31/31 [==============================] - 0s 9ms/step - loss: 5.3293 - lr: 1.0000e-05\n",
            "Epoch 62/100\n",
            "31/31 [==============================] - 1s 14ms/step - loss: 5.1741 - lr: 1.1220e-05\n",
            "Epoch 63/100\n",
            "31/31 [==============================] - 1s 14ms/step - loss: 5.1414 - lr: 1.2589e-05\n",
            "Epoch 64/100\n",
            "31/31 [==============================] - 1s 13ms/step - loss: 5.3299 - lr: 1.4125e-05\n",
            "Epoch 65/100\n",
            "31/31 [==============================] - 1s 13ms/step - loss: 5.6134 - lr: 1.5849e-05\n",
            "Epoch 66/100\n",
            "31/31 [==============================] - 0s 9ms/step - loss: 5.7052 - lr: 1.7783e-05\n",
            "Epoch 67/100\n",
            "31/31 [==============================] - 0s 9ms/step - loss: 5.3952 - lr: 1.9953e-05\n",
            "Epoch 68/100\n",
            "31/31 [==============================] - 0s 9ms/step - loss: 5.8310 - lr: 2.2387e-05\n",
            "Epoch 69/100\n",
            "31/31 [==============================] - 0s 9ms/step - loss: 5.5071 - lr: 2.5119e-05\n",
            "Epoch 70/100\n",
            "31/31 [==============================] - 0s 9ms/step - loss: 6.7271 - lr: 2.8184e-05\n",
            "Epoch 71/100\n",
            "31/31 [==============================] - 0s 10ms/step - loss: 7.8865 - lr: 3.1623e-05\n",
            "Epoch 72/100\n",
            "31/31 [==============================] - 0s 9ms/step - loss: 5.8530 - lr: 3.5481e-05\n",
            "Epoch 73/100\n",
            "31/31 [==============================] - 0s 9ms/step - loss: 5.2563 - lr: 3.9811e-05\n",
            "Epoch 74/100\n",
            "31/31 [==============================] - 0s 9ms/step - loss: 5.4998 - lr: 4.4668e-05\n",
            "Epoch 75/100\n",
            "31/31 [==============================] - 0s 9ms/step - loss: 6.3673 - lr: 5.0119e-05\n",
            "Epoch 76/100\n",
            "31/31 [==============================] - 0s 10ms/step - loss: 6.3064 - lr: 5.6234e-05\n",
            "Epoch 77/100\n",
            "31/31 [==============================] - 0s 9ms/step - loss: 7.9137 - lr: 6.3096e-05\n",
            "Epoch 78/100\n",
            "31/31 [==============================] - 0s 9ms/step - loss: 5.4761 - lr: 7.0795e-05\n",
            "Epoch 79/100\n",
            "31/31 [==============================] - 0s 9ms/step - loss: 6.2266 - lr: 7.9433e-05\n",
            "Epoch 80/100\n",
            "31/31 [==============================] - 0s 9ms/step - loss: 7.8412 - lr: 8.9125e-05\n",
            "Epoch 81/100\n",
            "31/31 [==============================] - 0s 10ms/step - loss: 8.0346 - lr: 1.0000e-04\n",
            "Epoch 82/100\n",
            "31/31 [==============================] - 0s 9ms/step - loss: 8.0101 - lr: 1.1220e-04\n",
            "Epoch 83/100\n",
            "31/31 [==============================] - 0s 10ms/step - loss: 7.4306 - lr: 1.2589e-04\n",
            "Epoch 84/100\n",
            "31/31 [==============================] - 0s 9ms/step - loss: 7.7870 - lr: 1.4125e-04\n",
            "Epoch 85/100\n",
            "31/31 [==============================] - 0s 10ms/step - loss: 5.8688 - lr: 1.5849e-04\n",
            "Epoch 86/100\n",
            "31/31 [==============================] - 0s 10ms/step - loss: 10.5103 - lr: 1.7783e-04\n",
            "Epoch 87/100\n",
            "31/31 [==============================] - 0s 9ms/step - loss: 9.6634 - lr: 1.9953e-04\n",
            "Epoch 88/100\n",
            "31/31 [==============================] - 0s 9ms/step - loss: 9.8072 - lr: 2.2387e-04\n",
            "Epoch 89/100\n",
            "31/31 [==============================] - 1s 14ms/step - loss: 10.7922 - lr: 2.5119e-04\n",
            "Epoch 90/100\n",
            "31/31 [==============================] - 1s 13ms/step - loss: 10.3395 - lr: 2.8184e-04\n",
            "Epoch 91/100\n",
            "31/31 [==============================] - 1s 14ms/step - loss: 8.2625 - lr: 3.1623e-04\n",
            "Epoch 92/100\n",
            "31/31 [==============================] - 1s 13ms/step - loss: 10.4047 - lr: 3.5481e-04\n",
            "Epoch 93/100\n",
            "31/31 [==============================] - 0s 10ms/step - loss: 10.0324 - lr: 3.9811e-04\n",
            "Epoch 94/100\n",
            "31/31 [==============================] - 0s 9ms/step - loss: 12.1981 - lr: 4.4668e-04\n",
            "Epoch 95/100\n",
            "31/31 [==============================] - 0s 9ms/step - loss: 9.6509 - lr: 5.0119e-04\n",
            "Epoch 96/100\n",
            "31/31 [==============================] - 0s 10ms/step - loss: 7.6770 - lr: 5.6234e-04\n",
            "Epoch 97/100\n",
            "31/31 [==============================] - 0s 9ms/step - loss: 9.0591 - lr: 6.3096e-04\n",
            "Epoch 98/100\n",
            "31/31 [==============================] - 0s 10ms/step - loss: 9.8667 - lr: 7.0795e-04\n",
            "Epoch 99/100\n",
            "31/31 [==============================] - 0s 9ms/step - loss: 10.3589 - lr: 7.9433e-04\n",
            "Epoch 100/100\n",
            "31/31 [==============================] - 0s 9ms/step - loss: 10.3686 - lr: 8.9125e-04\n"
          ]
        }
      ],
      "source": [
        "# Set the learning rate scheduler\n",
        "lr_schedule = tf.keras.callbacks.LearningRateScheduler(\n",
        "    lambda epoch: 1e-8 * 10**(epoch / 20))\n",
        "\n",
        "# Initialize the optimizer\n",
        "optimizer = tf.keras.optimizers.SGD(momentum=0.9)\n",
        "\n",
        "# Set the training parameters\n",
        "model_tune.compile(loss=tf.keras.losses.Huber(), optimizer=optimizer)\n",
        "\n",
        "# Train the model\n",
        "history = model_tune.fit(dataset, epochs=100, callbacks=[lr_schedule])"
      ]
    },
    {
      "cell_type": "code",
      "execution_count": 10,
      "metadata": {
        "id": "AkBsrsXMzoWR",
        "colab": {
          "base_uri": "https://localhost:8080/",
          "height": 558
        },
        "outputId": "cb501589-85b2-4840-e325-3bf6d1cfeb94"
      },
      "outputs": [
        {
          "output_type": "execute_result",
          "data": {
            "text/plain": [
              "(1e-08, 0.001, 0.0, 30.0)"
            ]
          },
          "metadata": {},
          "execution_count": 10
        },
        {
          "output_type": "display_data",
          "data": {
            "text/plain": [
              "<Figure size 1000x600 with 1 Axes>"
            ],
            "image/png": "[encoded data removed]"
          },
          "metadata": {}
        }
      ],
      "source": [
        "# Define the learning rate array\n",
        "lrs = 1e-8 * (10 ** (np.arange(100) / 20))\n",
        "\n",
        "# Set the figure size\n",
        "plt.figure(figsize=(10, 6))\n",
        "\n",
        "# Set the grid\n",
        "plt.grid(True)\n",
        "\n",
        "# Plot the loss in log scale\n",
        "plt.semilogx(lrs, history.history[\"loss\"])\n",
        "\n",
        "# Increase the tickmarks size\n",
        "plt.tick_params('both', length=10, width=1, which='both')\n",
        "\n",
        "# Set the plot boundaries\n",
        "plt.axis([1e-8, 1e-3, 0, 30])"
      ]
    },
    {
      "cell_type": "markdown",
      "metadata": {
        "id": "i-lKNp4pq_w8"
      },
      "source": [
        "## Train the Model\n",
        "\n",
        "You can then proceed to train the model with your chosen learning rate. \n",
        "\n",
        "*Tip: When experimenting and you find yourself running different iterations of a model, you may want to use the [`clear_session()`](https://www.tensorflow.org/api_docs/python/tf/keras/backend/clear_session) method to declutter memory used by Keras. This is added in the first line below.*\n"
      ]
    },
    {
      "cell_type": "code",
      "execution_count": 11,
      "metadata": {
        "id": "4uh-97bpLZCA",
        "colab": {
          "base_uri": "https://localhost:8080/"
        },
        "outputId": "9796dcef-f61b-4b03-8802-8c5684e1ec0b"
      },
      "outputs": [
        {
          "output_type": "stream",
          "name": "stdout",
          "text": [
            "Epoch 1/100\n",
            "31/31 [==============================] - 7s 14ms/step - loss: 23.0043 - mae: 23.4976\n",
            "Epoch 2/100\n",
            "31/31 [==============================] - 0s 10ms/step - loss: 9.1774 - mae: 9.6636\n",
            "Epoch 3/100\n",
            "31/31 [==============================] - 0s 10ms/step - loss: 8.0011 - mae: 8.4828\n",
            "Epoch 4/100\n",
            "31/31 [==============================] - 0s 10ms/step - loss: 7.5331 - mae: 8.0159\n",
            "Epoch 5/100\n",
            "31/31 [==============================] - 0s 9ms/step - loss: 7.1823 - mae: 7.6623\n",
            "Epoch 6/100\n",
            "31/31 [==============================] - 0s 11ms/step - loss: 7.0369 - mae: 7.5217\n",
            "Epoch 7/100\n",
            "31/31 [==============================] - 0s 9ms/step - loss: 6.7412 - mae: 7.2225\n",
            "Epoch 8/100\n",
            "31/31 [==============================] - 0s 9ms/step - loss: 6.4619 - mae: 6.9447\n",
            "Epoch 9/100\n",
            "31/31 [==============================] - 0s 9ms/step - loss: 6.2707 - mae: 6.7483\n",
            "Epoch 10/100\n",
            "31/31 [==============================] - 0s 9ms/step - loss: 6.0724 - mae: 6.5560\n",
            "Epoch 11/100\n",
            "31/31 [==============================] - 0s 9ms/step - loss: 5.9717 - mae: 6.4523\n",
            "Epoch 12/100\n",
            "31/31 [==============================] - 0s 9ms/step - loss: 5.8376 - mae: 6.3150\n",
            "Epoch 13/100\n",
            "31/31 [==============================] - 0s 9ms/step - loss: 5.7802 - mae: 6.2599\n",
            "Epoch 14/100\n",
            "31/31 [==============================] - 0s 9ms/step - loss: 5.6615 - mae: 6.1417\n",
            "Epoch 15/100\n",
            "31/31 [==============================] - 0s 9ms/step - loss: 5.5151 - mae: 5.9962\n",
            "Epoch 16/100\n",
            "31/31 [==============================] - 0s 10ms/step - loss: 5.4632 - mae: 5.9425\n",
            "Epoch 17/100\n",
            "31/31 [==============================] - 0s 9ms/step - loss: 5.3616 - mae: 5.8383\n",
            "Epoch 18/100\n",
            "31/31 [==============================] - 0s 10ms/step - loss: 5.3465 - mae: 5.8278\n",
            "Epoch 19/100\n",
            "31/31 [==============================] - 0s 10ms/step - loss: 5.3423 - mae: 5.8229\n",
            "Epoch 20/100\n",
            "31/31 [==============================] - 0s 9ms/step - loss: 5.3523 - mae: 5.8304\n",
            "Epoch 21/100\n",
            "31/31 [==============================] - 0s 10ms/step - loss: 5.2304 - mae: 5.7050\n",
            "Epoch 22/100\n",
            "31/31 [==============================] - 0s 9ms/step - loss: 5.1962 - mae: 5.6748\n",
            "Epoch 23/100\n",
            "31/31 [==============================] - 0s 11ms/step - loss: 5.1599 - mae: 5.6392\n",
            "Epoch 24/100\n",
            "31/31 [==============================] - 1s 14ms/step - loss: 5.1551 - mae: 5.6339\n",
            "Epoch 25/100\n",
            "31/31 [==============================] - 1s 15ms/step - loss: 5.0432 - mae: 5.5205\n",
            "Epoch 26/100\n",
            "31/31 [==============================] - 0s 10ms/step - loss: 5.0667 - mae: 5.5475\n",
            "Epoch 27/100\n",
            "31/31 [==============================] - 0s 10ms/step - loss: 5.0631 - mae: 5.5400\n",
            "Epoch 28/100\n",
            "31/31 [==============================] - 0s 9ms/step - loss: 5.0064 - mae: 5.4825\n",
            "Epoch 29/100\n",
            "31/31 [==============================] - 0s 10ms/step - loss: 5.0170 - mae: 5.4979\n",
            "Epoch 30/100\n",
            "31/31 [==============================] - 0s 10ms/step - loss: 4.9583 - mae: 5.4339\n",
            "Epoch 31/100\n",
            "31/31 [==============================] - 0s 9ms/step - loss: 5.1283 - mae: 5.6072\n",
            "Epoch 32/100\n",
            "31/31 [==============================] - 0s 10ms/step - loss: 4.9596 - mae: 5.4366\n",
            "Epoch 33/100\n",
            "31/31 [==============================] - 0s 10ms/step - loss: 4.8646 - mae: 5.3423\n",
            "Epoch 34/100\n",
            "31/31 [==============================] - 0s 10ms/step - loss: 4.9171 - mae: 5.3962\n",
            "Epoch 35/100\n",
            "31/31 [==============================] - 0s 10ms/step - loss: 4.9185 - mae: 5.3950\n",
            "Epoch 36/100\n",
            "31/31 [==============================] - 0s 10ms/step - loss: 4.9314 - mae: 5.4122\n",
            "Epoch 37/100\n",
            "31/31 [==============================] - 0s 10ms/step - loss: 4.8903 - mae: 5.3641\n",
            "Epoch 38/100\n",
            "31/31 [==============================] - 0s 9ms/step - loss: 4.8107 - mae: 5.2851\n",
            "Epoch 39/100\n",
            "31/31 [==============================] - 0s 10ms/step - loss: 4.7347 - mae: 5.2133\n",
            "Epoch 40/100\n",
            "31/31 [==============================] - 0s 10ms/step - loss: 4.7750 - mae: 5.2528\n",
            "Epoch 41/100\n",
            "31/31 [==============================] - 0s 9ms/step - loss: 4.7536 - mae: 5.2291\n",
            "Epoch 42/100\n",
            "31/31 [==============================] - 0s 10ms/step - loss: 4.7612 - mae: 5.2375\n",
            "Epoch 43/100\n",
            "31/31 [==============================] - 0s 10ms/step - loss: 4.7177 - mae: 5.1950\n",
            "Epoch 44/100\n",
            "31/31 [==============================] - 0s 10ms/step - loss: 4.7356 - mae: 5.2105\n",
            "Epoch 45/100\n",
            "31/31 [==============================] - 0s 9ms/step - loss: 4.7309 - mae: 5.2032\n",
            "Epoch 46/100\n",
            "31/31 [==============================] - 0s 9ms/step - loss: 4.7585 - mae: 5.2363\n",
            "Epoch 47/100\n",
            "31/31 [==============================] - 0s 9ms/step - loss: 4.7672 - mae: 5.2445\n",
            "Epoch 48/100\n",
            "31/31 [==============================] - 0s 9ms/step - loss: 4.8825 - mae: 5.3642\n",
            "Epoch 49/100\n",
            "31/31 [==============================] - 0s 13ms/step - loss: 4.9412 - mae: 5.4183\n",
            "Epoch 50/100\n",
            "31/31 [==============================] - 1s 13ms/step - loss: 4.8492 - mae: 5.3254\n",
            "Epoch 51/100\n",
            "31/31 [==============================] - 1s 14ms/step - loss: 4.6815 - mae: 5.1556\n",
            "Epoch 52/100\n",
            "31/31 [==============================] - 0s 9ms/step - loss: 4.7560 - mae: 5.2343\n",
            "Epoch 53/100\n",
            "31/31 [==============================] - 0s 10ms/step - loss: 4.6710 - mae: 5.1478\n",
            "Epoch 54/100\n",
            "31/31 [==============================] - 0s 9ms/step - loss: 4.8437 - mae: 5.3202\n",
            "Epoch 55/100\n",
            "31/31 [==============================] - 0s 10ms/step - loss: 4.7991 - mae: 5.2769\n",
            "Epoch 56/100\n",
            "31/31 [==============================] - 0s 9ms/step - loss: 4.6754 - mae: 5.1514\n",
            "Epoch 57/100\n",
            "31/31 [==============================] - 0s 9ms/step - loss: 4.6439 - mae: 5.1214\n",
            "Epoch 58/100\n",
            "31/31 [==============================] - 0s 10ms/step - loss: 4.7348 - mae: 5.2123\n",
            "Epoch 59/100\n",
            "31/31 [==============================] - 1s 15ms/step - loss: 4.7882 - mae: 5.2658\n",
            "Epoch 60/100\n",
            "31/31 [==============================] - 1s 11ms/step - loss: 4.9461 - mae: 5.4281\n",
            "Epoch 61/100\n",
            "31/31 [==============================] - 0s 13ms/step - loss: 4.7118 - mae: 5.1901\n",
            "Epoch 62/100\n",
            "31/31 [==============================] - 1s 12ms/step - loss: 4.6427 - mae: 5.1180\n",
            "Epoch 63/100\n",
            "31/31 [==============================] - 1s 10ms/step - loss: 4.6801 - mae: 5.1572\n",
            "Epoch 64/100\n",
            "31/31 [==============================] - 0s 10ms/step - loss: 4.6167 - mae: 5.0928\n",
            "Epoch 65/100\n",
            "31/31 [==============================] - 0s 10ms/step - loss: 4.6319 - mae: 5.1076\n",
            "Epoch 66/100\n",
            "31/31 [==============================] - 0s 9ms/step - loss: 4.6691 - mae: 5.1473\n",
            "Epoch 67/100\n",
            "31/31 [==============================] - 0s 10ms/step - loss: 4.6579 - mae: 5.1356\n",
            "Epoch 68/100\n",
            "31/31 [==============================] - 0s 9ms/step - loss: 4.6511 - mae: 5.1292\n",
            "Epoch 69/100\n",
            "31/31 [==============================] - 0s 10ms/step - loss: 4.6332 - mae: 5.1119\n",
            "Epoch 70/100\n",
            "31/31 [==============================] - 0s 10ms/step - loss: 4.6738 - mae: 5.1472\n",
            "Epoch 71/100\n",
            "31/31 [==============================] - 0s 11ms/step - loss: 4.6520 - mae: 5.1294\n",
            "Epoch 72/100\n",
            "31/31 [==============================] - 1s 14ms/step - loss: 4.7050 - mae: 5.1807\n",
            "Epoch 73/100\n",
            "31/31 [==============================] - 1s 15ms/step - loss: 4.8820 - mae: 5.3640\n",
            "Epoch 74/100\n",
            "31/31 [==============================] - 1s 14ms/step - loss: 4.6005 - mae: 5.0780\n",
            "Epoch 75/100\n",
            "31/31 [==============================] - 0s 10ms/step - loss: 4.6261 - mae: 5.1019\n",
            "Epoch 76/100\n",
            "31/31 [==============================] - 0s 10ms/step - loss: 4.6296 - mae: 5.1108\n",
            "Epoch 77/100\n",
            "31/31 [==============================] - 0s 9ms/step - loss: 4.6426 - mae: 5.1216\n",
            "Epoch 78/100\n",
            "31/31 [==============================] - 0s 9ms/step - loss: 4.7221 - mae: 5.1963\n",
            "Epoch 79/100\n",
            "31/31 [==============================] - 0s 9ms/step - loss: 4.7206 - mae: 5.1999\n",
            "Epoch 80/100\n",
            "31/31 [==============================] - 0s 9ms/step - loss: 4.6445 - mae: 5.1239\n",
            "Epoch 81/100\n",
            "31/31 [==============================] - 0s 9ms/step - loss: 4.5886 - mae: 5.0560\n",
            "Epoch 82/100\n",
            "31/31 [==============================] - 0s 10ms/step - loss: 4.5982 - mae: 5.0728\n",
            "Epoch 83/100\n",
            "31/31 [==============================] - 0s 10ms/step - loss: 4.7367 - mae: 5.2148\n",
            "Epoch 84/100\n",
            "31/31 [==============================] - 0s 9ms/step - loss: 4.6211 - mae: 5.0958\n",
            "Epoch 85/100\n",
            "31/31 [==============================] - 0s 10ms/step - loss: 4.6871 - mae: 5.1652\n",
            "Epoch 86/100\n",
            "31/31 [==============================] - 0s 10ms/step - loss: 4.7365 - mae: 5.2151\n",
            "Epoch 87/100\n",
            "31/31 [==============================] - 0s 10ms/step - loss: 4.6525 - mae: 5.1260\n",
            "Epoch 88/100\n",
            "31/31 [==============================] - 0s 11ms/step - loss: 4.6063 - mae: 5.0853\n",
            "Epoch 89/100\n",
            "31/31 [==============================] - 0s 10ms/step - loss: 4.6135 - mae: 5.0896\n",
            "Epoch 90/100\n",
            "31/31 [==============================] - 0s 9ms/step - loss: 4.5867 - mae: 5.0636\n",
            "Epoch 91/100\n",
            "31/31 [==============================] - 0s 9ms/step - loss: 4.5566 - mae: 5.0265\n",
            "Epoch 92/100\n",
            "31/31 [==============================] - 0s 10ms/step - loss: 4.6198 - mae: 5.0975\n",
            "Epoch 93/100\n",
            "31/31 [==============================] - 0s 10ms/step - loss: 4.5851 - mae: 5.0621\n",
            "Epoch 94/100\n",
            "31/31 [==============================] - 0s 10ms/step - loss: 4.6046 - mae: 5.0809\n",
            "Epoch 95/100\n",
            "31/31 [==============================] - 0s 9ms/step - loss: 4.5730 - mae: 5.0472\n",
            "Epoch 96/100\n",
            "31/31 [==============================] - 0s 10ms/step - loss: 4.6284 - mae: 5.1079\n",
            "Epoch 97/100\n",
            "31/31 [==============================] - 0s 10ms/step - loss: 4.5637 - mae: 5.0429\n",
            "Epoch 98/100\n",
            "31/31 [==============================] - 1s 13ms/step - loss: 4.5821 - mae: 5.0579\n",
            "Epoch 99/100\n",
            "31/31 [==============================] - 1s 15ms/step - loss: 4.8715 - mae: 5.3528\n",
            "Epoch 100/100\n",
            "31/31 [==============================] - 0s 9ms/step - loss: 4.5541 - mae: 5.0317\n"
          ]
        }
      ],
      "source": [
        "# Reset states generated by Keras\n",
        "tf.keras.backend.clear_session()\n",
        "\n",
        "# Build the model\n",
        "model = tf.keras.models.Sequential([\n",
        "  tf.keras.layers.Lambda(lambda x: tf.expand_dims(x, axis=-1),\n",
        "                      input_shape=[None]),\n",
        "   tf.keras.layers.Bidirectional(tf.keras.layers.LSTM(32, return_sequences=True)),\n",
        "  tf.keras.layers.Bidirectional(tf.keras.layers.LSTM(32)),\n",
        "  tf.keras.layers.Dense(1),\n",
        "  tf.keras.layers.Lambda(lambda x: x * 100.0)\n",
        "])\n",
        "\n",
        "# Set the learning rate\n",
        "learning_rate = 2e-6\n",
        "\n",
        "# Set the optimizer \n",
        "optimizer = tf.keras.optimizers.SGD(learning_rate=learning_rate, momentum=0.9)\n",
        "\n",
        "# Set the training parameters\n",
        "model.compile(loss=tf.keras.losses.Huber(),\n",
        "              optimizer=optimizer,\n",
        "              metrics=[\"mae\"])\n",
        "\n",
        "# Train the model\n",
        "history = model.fit(dataset,epochs=100)"
      ]
    },
    {
      "cell_type": "markdown",
      "metadata": {
        "id": "RjP4kbGiI7cw"
      },
      "source": [
        "## Model Prediction\n",
        "\n",
        "You will then generate batches of windows to generate predictions that align with the validation set."
      ]
    },
    {
      "cell_type": "code",
      "execution_count": 12,
      "metadata": {
        "id": "QO8cfKwKBBG6"
      },
      "outputs": [],
      "source": [
        "def model_forecast(model, series, window_size, batch_size):\n",
        "    \"\"\"Uses an input model to generate predictions on data windows\n",
        "\n",
        "    Args:\n",
        "      model (TF Keras Model) - model that accepts data windows\n",
        "      series (array of float) - contains the values of the time series\n",
        "      window_size (int) - the number of time steps to include in the window\n",
        "      batch_size (int) - the batch size\n",
        "\n",
        "    Returns:\n",
        "      forecast (numpy array) - array containing predictions\n",
        "    \"\"\"\n",
        "\n",
        "    # Generate a TF Dataset from the series values\n",
        "    dataset = tf.data.Dataset.from_tensor_slices(series)\n",
        "\n",
        "    # Window the data but only take those with the specified size\n",
        "    dataset = dataset.window(window_size, shift=1, drop_remainder=True)\n",
        "\n",
        "    # Flatten the windows by putting its elements in a single batch\n",
        "    dataset = dataset.flat_map(lambda w: w.batch(window_size))\n",
        "    \n",
        "    # Create batches of windows\n",
        "    dataset = dataset.batch(batch_size).prefetch(1)\n",
        "    \n",
        "    # Get predictions on the entire dataset\n",
        "    forecast = model.predict(dataset)\n",
        "    \n",
        "    return forecast"
      ]
    },
    {
      "cell_type": "code",
      "execution_count": 13,
      "metadata": {
        "id": "_plB3UseBD8o",
        "colab": {
          "base_uri": "https://localhost:8080/",
          "height": 559
        },
        "outputId": "10dc235d-237b-4755-ca86-2e7d4657ccac"
      },
      "outputs": [
        {
          "output_type": "stream",
          "name": "stdout",
          "text": [
            "15/15 [==============================] - 1s 7ms/step\n"
          ]
        },
        {
          "output_type": "display_data",
          "data": {
            "text/plain": [
              "<Figure size 1000x600 with 1 Axes>"
            ],
            "image/png": "[encoded data removed]"
          },
          "metadata": {}
        }
      ],
      "source": [
        "# Reduce the original series\n",
        "forecast_series = series[split_time-window_size:-1]\n",
        "\n",
        "# Use helper function to generate predictions\n",
        "forecast = model_forecast(model, forecast_series, window_size, batch_size)\n",
        "\n",
        "# Drop single dimensional axis\n",
        "results = forecast.squeeze()\n",
        "\n",
        "# Plot the results\n",
        "plot_series(time_valid, (x_valid, results))"
      ]
    },
    {
      "cell_type": "markdown",
      "metadata": {
        "id": "Nn8iSQkZtaRC"
      },
      "source": [
        "You can then generate the metrics to evaluate the model's performance."
      ]
    },
    {
      "cell_type": "code",
      "execution_count": 14,
      "metadata": {
        "id": "-IKhueZaBGID",
        "colab": {
          "base_uri": "https://localhost:8080/"
        },
        "outputId": "30f78ad7-8e9f-404a-852a-be3b0df60dd4"
      },
      "outputs": [
        {
          "output_type": "stream",
          "name": "stdout",
          "text": [
            "62.07449\n",
            "5.6142654\n"
          ]
        }
      ],
      "source": [
        "# Compute the MSE and MAE\n",
        "print(tf.keras.metrics.mean_squared_error(x_valid, results).numpy())\n",
        "print(tf.keras.metrics.mean_absolute_error(x_valid, results).numpy())"
      ]
    },
    {
      "cell_type": "markdown",
      "metadata": {
        "id": "bzPIqeMWvbPy"
      },
      "source": [
        "## Wrap Up\n",
        "\n",
        "This concludes this short exercise on using LSTMs for time series forecasting. Next week, you will build upon this and add convolutions. Then, you will start to move away from synthetic data and use real-world datasets. See you there!"
      ]
    },
    {
      "cell_type": "markdown",
      "metadata": {
        "id": "U5PqTePGHeMH"
      },
      "source": [
        "## Optional: Including a Validation Set while Training\n",
        "\n",
        "Back in the first course of this specialization, you saw how you can also monitor the performance of your model against a validation set while training. You can also do that for this lab. \n",
        "\n",
        "First, you need to generate a `val_set` which are data windows and labels that your model can accept. You can simply reuse the `windowed_dataset` function for that and you can pass in the `x_valid` points to generate the windows."
      ]
    },
    {
      "cell_type": "code",
      "execution_count": 15,
      "metadata": {
        "id": "kvFVwL3PC4iX"
      },
      "outputs": [],
      "source": [
        "# Generate data windows of the validation set\n",
        "val_set = windowed_dataset(x_valid, window_size, batch_size, shuffle_buffer_size)"
      ]
    },
    {
      "cell_type": "markdown",
      "metadata": {
        "id": "p68j6XxEvP9K"
      },
      "source": [
        "You can then do the same training as before but pass in the `val_set` to the `validation_data` parameter of the `fit()` method."
      ]
    },
    {
      "cell_type": "code",
      "execution_count": 16,
      "metadata": {
        "id": "wujKz6tXDSn0",
        "colab": {
          "base_uri": "https://localhost:8080/"
        },
        "outputId": "932573fd-5d1c-479c-cba4-b93864281575"
      },
      "outputs": [
        {
          "output_type": "stream",
          "name": "stdout",
          "text": [
            "Epoch 1/100\n",
            "31/31 [==============================] - 8s 74ms/step - loss: 24.3334 - mae: 24.8289 - val_loss: 25.1238 - val_mae: 25.6197\n",
            "Epoch 2/100\n",
            "31/31 [==============================] - 1s 21ms/step - loss: 11.2070 - mae: 11.6966 - val_loss: 24.0610 - val_mae: 24.5581\n",
            "Epoch 3/100\n",
            "31/31 [==============================] - 1s 13ms/step - loss: 7.6809 - mae: 8.1667 - val_loss: 17.7815 - val_mae: 18.2789\n",
            "Epoch 4/100\n",
            "31/31 [==============================] - 0s 13ms/step - loss: 6.5310 - mae: 7.0142 - val_loss: 14.4502 - val_mae: 14.9441\n",
            "Epoch 5/100\n",
            "31/31 [==============================] - 0s 13ms/step - loss: 7.2250 - mae: 7.7075 - val_loss: 19.1776 - val_mae: 19.6740\n",
            "Epoch 6/100\n",
            "31/31 [==============================] - 1s 14ms/step - loss: 6.8652 - mae: 7.3495 - val_loss: 15.0797 - val_mae: 15.5742\n",
            "Epoch 7/100\n",
            "31/31 [==============================] - 1s 13ms/step - loss: 5.7504 - mae: 6.2293 - val_loss: 12.5932 - val_mae: 13.0865\n",
            "Epoch 8/100\n",
            "31/31 [==============================] - 1s 14ms/step - loss: 5.5794 - mae: 6.0582 - val_loss: 11.4265 - val_mae: 11.9202\n",
            "Epoch 9/100\n",
            "31/31 [==============================] - 0s 13ms/step - loss: 5.3069 - mae: 5.7862 - val_loss: 10.3238 - val_mae: 10.8140\n",
            "Epoch 10/100\n",
            "31/31 [==============================] - 1s 14ms/step - loss: 5.2576 - mae: 5.7354 - val_loss: 10.1493 - val_mae: 10.6396\n",
            "Epoch 11/100\n",
            "31/31 [==============================] - 0s 13ms/step - loss: 5.2665 - mae: 5.7457 - val_loss: 9.5907 - val_mae: 10.0783\n",
            "Epoch 12/100\n",
            "31/31 [==============================] - 0s 13ms/step - loss: 5.1374 - mae: 5.6144 - val_loss: 8.3509 - val_mae: 8.8406\n",
            "Epoch 13/100\n",
            "31/31 [==============================] - 1s 14ms/step - loss: 5.0290 - mae: 5.5068 - val_loss: 8.3158 - val_mae: 8.8049\n",
            "Epoch 14/100\n",
            "31/31 [==============================] - 0s 12ms/step - loss: 4.9999 - mae: 5.4785 - val_loss: 7.8994 - val_mae: 8.3887\n",
            "Epoch 15/100\n",
            "31/31 [==============================] - 1s 14ms/step - loss: 4.9142 - mae: 5.3880 - val_loss: 8.1560 - val_mae: 8.6412\n",
            "Epoch 16/100\n",
            "31/31 [==============================] - 0s 13ms/step - loss: 5.0136 - mae: 5.4917 - val_loss: 7.8596 - val_mae: 8.3472\n",
            "Epoch 17/100\n",
            "31/31 [==============================] - 0s 13ms/step - loss: 4.8492 - mae: 5.3242 - val_loss: 8.1697 - val_mae: 8.6571\n",
            "Epoch 18/100\n",
            "31/31 [==============================] - 0s 13ms/step - loss: 4.9037 - mae: 5.3820 - val_loss: 7.8954 - val_mae: 8.3815\n",
            "Epoch 19/100\n",
            "31/31 [==============================] - 1s 14ms/step - loss: 4.8229 - mae: 5.2997 - val_loss: 7.6864 - val_mae: 8.1710\n",
            "Epoch 20/100\n",
            "31/31 [==============================] - 1s 17ms/step - loss: 5.0449 - mae: 5.5219 - val_loss: 7.2429 - val_mae: 7.7252\n",
            "Epoch 21/100\n",
            "31/31 [==============================] - 1s 24ms/step - loss: 4.7965 - mae: 5.2732 - val_loss: 7.6684 - val_mae: 8.1527\n",
            "Epoch 22/100\n",
            "31/31 [==============================] - 1s 20ms/step - loss: 4.8132 - mae: 5.2907 - val_loss: 7.3640 - val_mae: 7.8473\n",
            "Epoch 23/100\n",
            "31/31 [==============================] - 1s 15ms/step - loss: 4.7511 - mae: 5.2255 - val_loss: 6.9296 - val_mae: 7.4119\n",
            "Epoch 24/100\n",
            "31/31 [==============================] - 0s 13ms/step - loss: 4.8033 - mae: 5.2782 - val_loss: 6.7431 - val_mae: 7.2299\n",
            "Epoch 25/100\n",
            "31/31 [==============================] - 1s 15ms/step - loss: 4.7472 - mae: 5.2242 - val_loss: 6.6611 - val_mae: 7.1499\n",
            "Epoch 26/100\n",
            "31/31 [==============================] - 0s 13ms/step - loss: 4.7565 - mae: 5.2367 - val_loss: 7.8707 - val_mae: 8.3594\n",
            "Epoch 27/100\n",
            "31/31 [==============================] - 1s 14ms/step - loss: 4.8423 - mae: 5.3193 - val_loss: 6.8739 - val_mae: 7.3583\n",
            "Epoch 28/100\n",
            "31/31 [==============================] - 1s 13ms/step - loss: 4.8304 - mae: 5.3035 - val_loss: 7.7569 - val_mae: 8.2428\n",
            "Epoch 29/100\n",
            "31/31 [==============================] - 1s 14ms/step - loss: 4.6953 - mae: 5.1735 - val_loss: 6.6320 - val_mae: 7.1162\n",
            "Epoch 30/100\n",
            "31/31 [==============================] - 1s 13ms/step - loss: 4.7293 - mae: 5.2044 - val_loss: 6.7403 - val_mae: 7.2224\n",
            "Epoch 31/100\n",
            "31/31 [==============================] - 1s 14ms/step - loss: 4.6625 - mae: 5.1412 - val_loss: 6.6978 - val_mae: 7.1799\n",
            "Epoch 32/100\n",
            "31/31 [==============================] - 1s 14ms/step - loss: 4.8720 - mae: 5.3492 - val_loss: 8.1796 - val_mae: 8.6689\n",
            "Epoch 33/100\n",
            "31/31 [==============================] - 0s 13ms/step - loss: 4.8200 - mae: 5.3007 - val_loss: 7.0223 - val_mae: 7.5037\n",
            "Epoch 34/100\n",
            "31/31 [==============================] - 1s 14ms/step - loss: 4.6932 - mae: 5.1687 - val_loss: 7.9289 - val_mae: 8.4176\n",
            "Epoch 35/100\n",
            "31/31 [==============================] - 1s 13ms/step - loss: 4.6571 - mae: 5.1366 - val_loss: 6.4534 - val_mae: 6.9371\n",
            "Epoch 36/100\n",
            "31/31 [==============================] - 1s 13ms/step - loss: 4.6563 - mae: 5.1356 - val_loss: 6.3040 - val_mae: 6.7887\n",
            "Epoch 37/100\n",
            "31/31 [==============================] - 0s 13ms/step - loss: 4.7314 - mae: 5.2082 - val_loss: 6.8116 - val_mae: 7.2947\n",
            "Epoch 38/100\n",
            "31/31 [==============================] - 1s 14ms/step - loss: 4.6825 - mae: 5.1558 - val_loss: 6.5642 - val_mae: 7.0480\n",
            "Epoch 39/100\n",
            "31/31 [==============================] - 0s 13ms/step - loss: 4.6717 - mae: 5.1477 - val_loss: 6.5755 - val_mae: 7.0573\n",
            "Epoch 40/100\n",
            "31/31 [==============================] - 1s 14ms/step - loss: 4.6868 - mae: 5.1633 - val_loss: 6.5872 - val_mae: 7.0699\n",
            "Epoch 41/100\n",
            "31/31 [==============================] - 1s 19ms/step - loss: 4.7562 - mae: 5.2303 - val_loss: 7.9903 - val_mae: 8.4791\n",
            "Epoch 42/100\n",
            "31/31 [==============================] - 1s 20ms/step - loss: 4.6866 - mae: 5.1675 - val_loss: 6.2806 - val_mae: 6.7616\n",
            "Epoch 43/100\n",
            "31/31 [==============================] - 1s 16ms/step - loss: 4.6278 - mae: 5.1048 - val_loss: 6.2625 - val_mae: 6.7427\n",
            "Epoch 44/100\n",
            "31/31 [==============================] - 1s 14ms/step - loss: 4.6993 - mae: 5.1782 - val_loss: 7.2079 - val_mae: 7.6899\n",
            "Epoch 45/100\n",
            "31/31 [==============================] - 1s 14ms/step - loss: 4.6349 - mae: 5.1106 - val_loss: 6.0784 - val_mae: 6.5656\n",
            "Epoch 46/100\n",
            "31/31 [==============================] - 1s 14ms/step - loss: 4.6594 - mae: 5.1351 - val_loss: 7.2230 - val_mae: 7.7055\n",
            "Epoch 47/100\n",
            "31/31 [==============================] - 1s 14ms/step - loss: 4.6501 - mae: 5.1259 - val_loss: 6.2331 - val_mae: 6.7138\n",
            "Epoch 48/100\n",
            "31/31 [==============================] - 1s 14ms/step - loss: 4.6132 - mae: 5.0888 - val_loss: 6.2299 - val_mae: 6.7120\n",
            "Epoch 49/100\n",
            "31/31 [==============================] - 1s 14ms/step - loss: 4.6381 - mae: 5.1131 - val_loss: 6.8907 - val_mae: 7.3692\n",
            "Epoch 50/100\n",
            "31/31 [==============================] - 1s 14ms/step - loss: 4.6364 - mae: 5.1084 - val_loss: 6.6535 - val_mae: 7.1341\n",
            "Epoch 51/100\n",
            "31/31 [==============================] - 1s 14ms/step - loss: 4.5725 - mae: 5.0501 - val_loss: 6.1531 - val_mae: 6.6351\n",
            "Epoch 52/100\n",
            "31/31 [==============================] - 1s 14ms/step - loss: 4.6265 - mae: 5.1022 - val_loss: 6.9567 - val_mae: 7.4358\n",
            "Epoch 53/100\n",
            "31/31 [==============================] - 1s 14ms/step - loss: 4.6579 - mae: 5.1339 - val_loss: 6.1578 - val_mae: 6.6385\n",
            "Epoch 54/100\n",
            "31/31 [==============================] - 1s 14ms/step - loss: 4.7024 - mae: 5.1768 - val_loss: 6.5242 - val_mae: 7.0038\n",
            "Epoch 55/100\n",
            "31/31 [==============================] - 0s 13ms/step - loss: 4.7383 - mae: 5.2168 - val_loss: 6.2692 - val_mae: 6.7540\n",
            "Epoch 56/100\n",
            "31/31 [==============================] - 1s 14ms/step - loss: 4.5728 - mae: 5.0443 - val_loss: 7.0436 - val_mae: 7.5237\n",
            "Epoch 57/100\n",
            "31/31 [==============================] - 0s 13ms/step - loss: 4.5759 - mae: 5.0518 - val_loss: 6.0347 - val_mae: 6.5147\n",
            "Epoch 58/100\n",
            "31/31 [==============================] - 1s 14ms/step - loss: 4.5810 - mae: 5.0577 - val_loss: 6.0178 - val_mae: 6.4950\n",
            "Epoch 59/100\n",
            "31/31 [==============================] - 0s 13ms/step - loss: 4.6661 - mae: 5.1379 - val_loss: 6.6574 - val_mae: 7.1358\n",
            "Epoch 60/100\n",
            "31/31 [==============================] - 1s 13ms/step - loss: 4.5566 - mae: 5.0365 - val_loss: 6.2351 - val_mae: 6.7203\n",
            "Epoch 61/100\n",
            "31/31 [==============================] - 1s 20ms/step - loss: 4.5603 - mae: 5.0377 - val_loss: 6.0239 - val_mae: 6.5006\n",
            "Epoch 62/100\n",
            "31/31 [==============================] - 1s 20ms/step - loss: 4.6056 - mae: 5.0857 - val_loss: 6.9117 - val_mae: 7.3906\n",
            "Epoch 63/100\n",
            "31/31 [==============================] - 1s 24ms/step - loss: 4.6748 - mae: 5.1502 - val_loss: 5.8917 - val_mae: 6.3779\n",
            "Epoch 64/100\n",
            "31/31 [==============================] - 1s 14ms/step - loss: 4.6843 - mae: 5.1596 - val_loss: 6.4289 - val_mae: 6.9078\n",
            "Epoch 65/100\n",
            "31/31 [==============================] - 1s 14ms/step - loss: 4.5212 - mae: 4.9936 - val_loss: 6.2737 - val_mae: 6.7561\n",
            "Epoch 66/100\n",
            "31/31 [==============================] - 1s 14ms/step - loss: 4.5185 - mae: 4.9911 - val_loss: 6.2145 - val_mae: 6.6986\n",
            "Epoch 67/100\n",
            "31/31 [==============================] - 0s 13ms/step - loss: 4.5087 - mae: 4.9816 - val_loss: 6.6345 - val_mae: 7.1137\n",
            "Epoch 68/100\n",
            "31/31 [==============================] - 1s 14ms/step - loss: 4.5524 - mae: 5.0283 - val_loss: 6.1369 - val_mae: 6.6211\n",
            "Epoch 69/100\n",
            "31/31 [==============================] - 1s 13ms/step - loss: 4.5428 - mae: 5.0183 - val_loss: 6.2133 - val_mae: 6.6966\n",
            "Epoch 70/100\n",
            "31/31 [==============================] - 1s 14ms/step - loss: 4.5317 - mae: 5.0059 - val_loss: 5.9395 - val_mae: 6.4153\n",
            "Epoch 71/100\n",
            "31/31 [==============================] - 1s 13ms/step - loss: 4.5629 - mae: 5.0399 - val_loss: 6.0048 - val_mae: 6.4863\n",
            "Epoch 72/100\n",
            "31/31 [==============================] - 1s 13ms/step - loss: 4.6477 - mae: 5.1244 - val_loss: 5.8825 - val_mae: 6.3597\n",
            "Epoch 73/100\n",
            "31/31 [==============================] - 1s 14ms/step - loss: 4.5321 - mae: 5.0090 - val_loss: 6.0718 - val_mae: 6.5550\n",
            "Epoch 74/100\n",
            "31/31 [==============================] - 1s 13ms/step - loss: 4.5545 - mae: 5.0310 - val_loss: 5.9775 - val_mae: 6.4577\n",
            "Epoch 75/100\n",
            "31/31 [==============================] - 1s 13ms/step - loss: 4.5292 - mae: 5.0059 - val_loss: 5.6184 - val_mae: 6.1025\n",
            "Epoch 76/100\n",
            "31/31 [==============================] - 0s 13ms/step - loss: 4.6067 - mae: 5.0838 - val_loss: 5.8628 - val_mae: 6.3411\n",
            "Epoch 77/100\n",
            "31/31 [==============================] - 1s 14ms/step - loss: 4.5672 - mae: 5.0447 - val_loss: 6.1333 - val_mae: 6.6148\n",
            "Epoch 78/100\n",
            "31/31 [==============================] - 0s 13ms/step - loss: 4.5910 - mae: 5.0674 - val_loss: 6.4926 - val_mae: 6.9708\n",
            "Epoch 79/100\n",
            "31/31 [==============================] - 1s 13ms/step - loss: 4.6002 - mae: 5.0767 - val_loss: 5.6891 - val_mae: 6.1735\n",
            "Epoch 80/100\n",
            "31/31 [==============================] - 0s 13ms/step - loss: 4.5428 - mae: 5.0207 - val_loss: 5.9381 - val_mae: 6.4183\n",
            "Epoch 81/100\n",
            "31/31 [==============================] - 1s 14ms/step - loss: 4.5445 - mae: 5.0203 - val_loss: 5.6541 - val_mae: 6.1388\n",
            "Epoch 82/100\n",
            "31/31 [==============================] - 0s 13ms/step - loss: 4.5369 - mae: 5.0121 - val_loss: 5.6691 - val_mae: 6.1533\n",
            "Epoch 83/100\n",
            "31/31 [==============================] - 1s 25ms/step - loss: 4.6323 - mae: 5.1052 - val_loss: 6.4814 - val_mae: 6.9608\n",
            "Epoch 84/100\n",
            "31/31 [==============================] - 1s 23ms/step - loss: 4.5600 - mae: 5.0389 - val_loss: 6.1408 - val_mae: 6.6245\n",
            "Epoch 85/100\n",
            "31/31 [==============================] - 1s 18ms/step - loss: 4.4980 - mae: 4.9721 - val_loss: 5.7499 - val_mae: 6.2306\n",
            "Epoch 86/100\n",
            "31/31 [==============================] - 1s 13ms/step - loss: 4.4924 - mae: 4.9699 - val_loss: 5.6356 - val_mae: 6.1190\n",
            "Epoch 87/100\n",
            "31/31 [==============================] - 0s 13ms/step - loss: 4.4924 - mae: 4.9685 - val_loss: 6.0885 - val_mae: 6.5675\n",
            "Epoch 88/100\n",
            "31/31 [==============================] - 0s 13ms/step - loss: 4.4854 - mae: 4.9631 - val_loss: 6.5849 - val_mae: 7.0630\n",
            "Epoch 89/100\n",
            "31/31 [==============================] - 1s 13ms/step - loss: 4.5976 - mae: 5.0730 - val_loss: 5.6519 - val_mae: 6.1341\n",
            "Epoch 90/100\n",
            "31/31 [==============================] - 1s 13ms/step - loss: 4.4963 - mae: 4.9673 - val_loss: 5.5762 - val_mae: 6.0583\n",
            "Epoch 91/100\n",
            "31/31 [==============================] - 0s 13ms/step - loss: 4.5181 - mae: 4.9950 - val_loss: 5.8870 - val_mae: 6.3681\n",
            "Epoch 92/100\n",
            "31/31 [==============================] - 1s 14ms/step - loss: 4.4843 - mae: 4.9586 - val_loss: 6.6689 - val_mae: 7.1474\n",
            "Epoch 93/100\n",
            "31/31 [==============================] - 1s 14ms/step - loss: 4.4823 - mae: 4.9590 - val_loss: 6.0099 - val_mae: 6.4894\n",
            "Epoch 94/100\n",
            "31/31 [==============================] - 1s 14ms/step - loss: 4.5406 - mae: 5.0175 - val_loss: 5.5706 - val_mae: 6.0541\n",
            "Epoch 95/100\n",
            "31/31 [==============================] - 1s 14ms/step - loss: 4.5639 - mae: 5.0398 - val_loss: 5.5036 - val_mae: 5.9872\n",
            "Epoch 96/100\n",
            "31/31 [==============================] - 1s 13ms/step - loss: 4.5113 - mae: 4.9888 - val_loss: 6.8629 - val_mae: 7.3447\n",
            "Epoch 97/100\n",
            "31/31 [==============================] - 1s 14ms/step - loss: 4.6492 - mae: 5.1239 - val_loss: 6.7900 - val_mae: 7.2707\n",
            "Epoch 98/100\n",
            "31/31 [==============================] - 0s 13ms/step - loss: 4.5050 - mae: 4.9827 - val_loss: 6.4851 - val_mae: 6.9656\n",
            "Epoch 99/100\n",
            "31/31 [==============================] - 1s 14ms/step - loss: 4.5727 - mae: 5.0492 - val_loss: 5.8764 - val_mae: 6.3580\n",
            "Epoch 100/100\n",
            "31/31 [==============================] - 0s 13ms/step - loss: 4.4483 - mae: 4.9235 - val_loss: 5.8109 - val_mae: 6.2926\n"
          ]
        }
      ],
      "source": [
        "# Reset states generated by Keras\n",
        "tf.keras.backend.clear_session()\n",
        "\n",
        "# Build the model\n",
        "model = tf.keras.models.Sequential([\n",
        "  tf.keras.layers.Lambda(lambda x: tf.expand_dims(x, axis=-1),\n",
        "                      input_shape=[None]),\n",
        "   tf.keras.layers.Bidirectional(tf.keras.layers.LSTM(32, return_sequences=True)),\n",
        "  tf.keras.layers.Bidirectional(tf.keras.layers.LSTM(32)),\n",
        "  tf.keras.layers.Dense(1),\n",
        "  tf.keras.layers.Lambda(lambda x: x * 100.0)\n",
        "])\n",
        "\n",
        "# Set the learning rate\n",
        "learning_rate = 2e-6\n",
        "\n",
        "# Set the optimizer \n",
        "optimizer = tf.keras.optimizers.SGD(learning_rate=learning_rate, momentum=0.9)\n",
        "\n",
        "# Set the training parameters\n",
        "model.compile(loss=tf.keras.losses.Huber(),\n",
        "              optimizer=optimizer,\n",
        "              metrics=[\"mae\"])\n",
        "\n",
        "# Train the model\n",
        "history = model.fit(dataset,epochs=100, validation_data=val_set)"
      ]
    }
  ],
  "metadata": {
    "accelerator": "GPU",
    "colab": {
      "provenance": []
    },
    "kernelspec": {
      "display_name": "Python 3",
      "language": "python",
      "name": "python3"
    },
    "language_info": {
      "codemirror_mode": {
        "name": "ipython",
        "version": 3
      },
      "file_extension": ".py",
      "mimetype": "text/x-python",
      "name": "python",
      "nbconvert_exporter": "python",
      "pygments_lexer": "ipython3",
      "version": "3.7.4"
    },
    "gpuClass": "standard"
  },
  "nbformat": 4,
  "nbformat_minor": 0
}